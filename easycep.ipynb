{
 "cells": [
  {
   "cell_type": "code",
   "execution_count": 1,
   "metadata": {},
   "outputs": [
    {
     "name": "stdout",
     "output_type": "stream",
     "text": [
      "Apple iPad Pro 5.Nesil 12.9 inç 256 GB Wi-Fi Gümüş\n",
      "Apple iPad Pro 5.Nesil 12.9 inç 128 GB Wi-Fi Space Gray\n",
      "Apple iPad Pro 4. Nesil 11 inç 512 GB Wi-Fi Space Gray\n",
      "Apple iPad Pro 5.Nesil 12.9 inç 128 GB Wi-Fi Gümüş\n",
      "Apple iPad Pro 3. Nesil 11 inç 128 GB Wi-Fi + Cellular Silver\n",
      "Apple iPad Air 5. Nesil 10.9 inç 64 GB Wi-Fi Pink\n",
      "Apple iPad Air 5. Nesil 10.9 inç 64 GB Wi-Fi Space Gray\n",
      "Apple iPad Air 5. Nesil 10.9 inç 64 GB Wi-Fi Blue\n",
      "Apple iPad Air 5. Nesil 10.9 inç 256 GB Wi-Fi Yıldız Işığı\n",
      "Apple iPad Air 4.Nesil 10.9 inç 64 GB Wi-Fi Green\n",
      "Apple iPad Air 4.Nesil 10.9 inç 64 GB Wi-Fi Space Gray\n",
      "Apple iPad Air 5. Nesil 10.9 inç 64 GB Wi-Fi Purple\n",
      "Apple iPad Air 5. Nesil 10.9 inç 64 GB Wi-Fi Space Gray\n",
      "Apple iPad Air 4.Nesil 10.9 inç 64 GB Wi-Fi Blue\n",
      "Apple iPad Air 4.Nesil 10.9 inç 64 GB Wi-Fi Blue\n",
      "Apple iPad Air 4.Nesil 10.9 inç 64 GB Wi-Fi Silver\n",
      "Apple iPad 10.Nesil 10.9 inç 64 GB Wi-Fi + Cellular Silver\n",
      "Apple iPad 10. Nesil 10.9 inç 64 GB Wi-Fi Blue\n",
      "Apple iPad 10. Nesil 10.9 inç 64 GB Wi-Fi Blue\n",
      "Apple iPad 10. Nesil 10.9 inç 64 GB Wi-Fi Blue\n",
      "Huawei Matepad Pro 10.9 inç 128 GB Wi-Fi Mavi\n",
      "Samsung Galaxy Tab S9 FE 10.9 inç 128 GB Wi-Fi Gümüş\n",
      "Apple iPad 8. Nesil 10.2 inç 32 GB Wi-Fi Gold\n",
      "Apple iPad Air 3.Nesil 10.5 inç 64 GB Wi-Fi + Cellular Space Gray\n",
      "Apple iPad 8. Nesil 10.2 inç 128 GB Wi-Fi Space Gray\n",
      "Apple iPad 8. Nesil 10.2 inç 32 GB Wi-Fi Silver\n",
      "Samsung Galaxy Tab A8 LTE 10.5 inç 32 GB Wi-Fi + Cellular Pembe\n",
      "Samsung Galaxy Tab A8 10.5 inç 32 GB Wi-Fi Gri\n",
      "Samsung Galaxy Tab A8 10.5 inç 32 GB Wi-Fi Pembe\n",
      "Samsung Galaxy Tab A8 10.5 inç 32 GB Wi-Fi Pembe\n"
     ]
    }
   ],
   "source": [
    "import requests\n",
    "from bs4 import BeautifulSoup\n",
    "import pandas as pd\n",
    "\n",
    "url = \"https://easycep.com/kategori/tablet-275\"\n",
    "\n",
    "response = requests.get(url)\n",
    "\n",
    "soup = BeautifulSoup(response.content, \"html.parser\")\n",
    "\n",
    "table = soup.find_all(\"div\", class_=\"category__list category__list--grid\")\n",
    "for any in table:\n",
    "    third_table = any.find_all(\"div\", class_=\"product__typeOne--name\")\n",
    "    for item in third_table:\n",
    "        print(item.text.strip())"
   ]
  }
 ],
 "metadata": {
  "kernelspec": {
   "display_name": "base",
   "language": "python",
   "name": "python3"
  },
  "language_info": {
   "codemirror_mode": {
    "name": "ipython",
    "version": 3
   },
   "file_extension": ".py",
   "mimetype": "text/x-python",
   "name": "python",
   "nbconvert_exporter": "python",
   "pygments_lexer": "ipython3",
   "version": "3.12.4"
  }
 },
 "nbformat": 4,
 "nbformat_minor": 2
}
